{
 "cells": [
  {
   "cell_type": "markdown",
   "metadata": {},
   "source": [
    "# NBA Basketball - Predictions and Statistics\n",
    "\n",
    "##### CSCI E-599 Capstone Project Proposal by Nurul Zaman [noor] \n"
   ]
  },
  {
   "cell_type": "markdown",
   "metadata": {},
   "source": [
    "# Introduction\n",
    "![](images/section_line.png)\n",
    "\n",
    "NBA Basketball is big business in United States. There are 32 NBA teams, each of which play 82 games every year. Eight teams from each conference (16 total) proceed to the playoffs. Within the season, teams go through interesting games where some matchups seem to favor one team or another. Also, there are injuries and trades that can change a team season. The main goals of this project are:\n",
    "\n",
    "- Predict the chances of a team  end of season standings (and possibly individual games)\n",
    "- Provide Web based displays to support the predictions\n",
    "\n",
    "#### Predicting Outcomes\n",
    " \n",
    "- A number of elementary and advanced metrics can be applied to predict the number of games each team can win at end of each season. \n",
    "- The above goal will also allow us to predict which teams end up in playoffs (top 16 teams qualify for playoffs).\n",
    "- A nice to have option will be predicting the outcome of each game. There are already betting lines on games based on historical data. So the goal is to provide the same winning odds through our predictions.\n",
    "- Another moon shot would be to modify predictions based on real time sentiments from sources such as twitter feeds or some other real time option (I am not a big (or even small) social media person but I am sure there are a number of online feeds as the game proceeds). \n",
    "\n",
    "#### Statistical Displays:\n",
    "We would be more interested in predicting the outcomes but for that we would have to build the supporting database backends anyway. Using the backend data we should be able to provide relevant statistical views for the user. Also, showing the predictions in vacuum without allowing the user to look at the supporting historical and individual statistics would be less thaan ideal. We can show some statitically relevant data such as:\n",
    "\n",
    "- Current team performance over a year or on a historical year to year basis\n",
    "- Team matchups over a single year or over an year to year basis \n",
    "- Based on relevance and efforts involved, there can be a number of other displays that can be developed\n"
   ]
  },
  {
   "cell_type": "markdown",
   "metadata": {},
   "source": [
    "# High Level Design\n",
    "![](images/section_line.png)\n",
    "\n",
    "The system consists of few major components. Most of the backend work will consist of **Data Gathering** from NBA sites and **Storing** the data in database.  The **Modeling** component will use the data to develop a model and deploy it an accessible location. An **API-Layer** will expose the data to the world. The **Front-end** component will access the database and the model to display statistics and predictions. A suggested picture of the design is as follows:\n",
    "<br>\n",
    "<br>\n",
    "![](images/design.png)\n",
    "<br>\n",
    "<br>\n",
    "\n",
    "- **Data Gathering** is a big part of the project. If a convenient dataset is not available. then the data needs to be scraped from available online sites such as Basketball-reference. Teams play a large number of games every season, 82 games each. Altogeher, a total of 1230 games are played. Given this volume we are looking at thousands of data scrapes. Scripts to do that are mostly available from people who have tried this before. However, they may need to be modified and corrected in case the site structure has changed. Similarly, if we also try to get data from real time sources such as twitter, then scripts have to be written.\n",
    "\n",
    "\n",
    "- **Data will be stored** using a relational SQL DB such as Postgres. A relational DB allows joins and adhoc queries that will be needed as we proceed with the front end and prediction model development. Data aggregations and such can be stored in a companion NOSQL database for fast retrieval. \n",
    "\n",
    "\n",
    "- **An API layer** will allow the access to the data. This layer can be REST based service that can be accessed by a number of different technologies such as Spring Boot or Angular. \n",
    "\n",
    "\n",
    "- **Prediction Models** can be developed based on the data gathered. The models differ from normal web clients. For example, the models need to churn through a large number of historcal data for training purposes. Also, the models may need data in file format rather than database. So the model will be built offline and the resulting model will be deployed and make available through some web service. \n",
    "\n",
    "\n",
    "- **Front End** will use the APIs to display the predictions as well as basketball statistical data.\n"
   ]
  },
  {
   "cell_type": "markdown",
   "metadata": {},
   "source": [
    "\n",
    "# Work Efforts / Expertise:\n",
    "![](images/section_line.png)\n",
    "\n",
    "As you can see from the requirements and design, the project will utilize multiple technologies and will require skills for different tasks. I imagine the following being some of the skills that will be utilized:\n",
    "\n",
    "\n",
    "#### Backend\n",
    "\n",
    "- **Data Gathering [Python]:** There could be a lot of web scraping and parsing for the project. I assume that Python skills would be required.\n",
    "\n",
    "\n",
    "- **SQL Database [DB Design and Query]:**  Traditional DB design for something like Postgres. SQL database are pretty standardized so the same design will be applicable for any number of available database. \n",
    "\n",
    "\n",
    "- **NOSQL Database [DB Design & Query]:** Some NOSQL database like Cassandra now support SQL like syntax, others may not. May need some experience in designing the db or using the libraries.\n",
    "\n",
    "\n",
    "- **Prediction Modeling [Probably Pandas, SciKit if Python or Azure ML]:** Our dataset should be small enough to be handled without going for big data technologies. I would assume something like SciKit or AzureML needs to be used.  More than one model need to be developed:\n",
    "    - A classification model to figure out if a team would qualify for playoffs. \n",
    "    - A classification model for predicting which team would win an individual game.\n",
    "    - A regression model to predict the actual scores (over/under ?).  \n",
    "\n",
    "\n",
    "- **Streaming Data Gathering (Kafka & Storm):** \"If\" we incorporate real time feeds as part of the prediction criteria. \n",
    "\n",
    "\n",
    "\n",
    "#### Front End\n",
    " \n",
    "The front end could evolve into an interactive front end depending upon our combined skills. My front-end skills are dated but there are a lot of new technologies such as D3 and Tableau that can be used to create front end visualization. Someone with expertise on visualization should be able to help a great deal.  The front end itself be divided into two distinct purposes:\n",
    "\n",
    "-\tStatistical displays to show aggregated displays such as histograms, barcharts, scatter plots to display performance of one or more teams or player.\n",
    "\n",
    "-\tPrediction Display can be visualized using a ROC curve or regression line..\n"
   ]
  },
  {
   "cell_type": "markdown",
   "metadata": {},
   "source": [
    "\n",
    "# Disclaimers\n",
    "![](images/section_line.png)\n",
    "\n",
    "If you have read till here, you can see this is not a work-related project but it does use various technologies that most of us do/will use at work. It is an ambitious effort with some unknowns and would require quite a bit of sustained effort over the whole semester. We can mitigate the risks by breaking down the project into must haves and nice to haves but it is still a lot of work.\n",
    "\n",
    "I did another project last semester related to the one I am proposing. It was much smaller in scope (an individual project) and did not have any web context to it. However it had some data gathering requirements that can give you an idea. If you click on the link below, it will cycle for a few seconds and then render the page from the git.\n",
    "\n",
    "https://github.com/noorzaman/bb_finances/blob/master/zaman_nurul.ipynb\n",
    "\n"
   ]
  },
  {
   "cell_type": "code",
   "execution_count": null,
   "metadata": {
    "collapsed": true
   },
   "outputs": [],
   "source": []
  }
 ],
 "metadata": {
  "kernelspec": {
   "display_name": "Python 3",
   "language": "python",
   "name": "python3"
  },
  "language_info": {
   "codemirror_mode": {
    "name": "ipython",
    "version": 3
   },
   "file_extension": ".py",
   "mimetype": "text/x-python",
   "name": "python",
   "nbconvert_exporter": "python",
   "pygments_lexer": "ipython3",
   "version": "3.6.1"
  }
 },
 "nbformat": 4,
 "nbformat_minor": 2
}
